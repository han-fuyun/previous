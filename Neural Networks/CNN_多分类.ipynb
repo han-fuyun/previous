{
 "cells": [
  {
   "cell_type": "code",
   "execution_count": null,
   "outputs": [],
   "source": [
    "from keras import models\n",
    "from keras import layers"
   ],
   "metadata": {
    "collapsed": false,
    "pycharm": {
     "name": "#%%\n"
    }
   }
  },
  {
   "cell_type": "code",
   "execution_count": null,
   "outputs": [],
   "source": [
    "model  = models.Sequential()\n",
    "model.add(layers.Conv2D(32,(3,3),activation='relu',input_shape=(150,150,3)))\n",
    "model.add(layers.MaxPool2D(2,2))\n",
    "model.add(layers.Conv2D(64,(3,3),activation='relu'))\n",
    "model.add(layers.MaxPooling2D((2, 2)))\n",
    "model.add(layers.Conv2D(128, (3, 3), activation='relu'))\n",
    "model.add(layers.MaxPooling2D((2, 2)))\n",
    "model.add(layers.Conv2D(128, (3, 3), activation='relu'))\n",
    "model.add(layers.MaxPooling2D((2, 2)))\n",
    "model.add(layers.Flatten())     #讲数据展开成1维\n",
    "model.add(layers.Dropout(0.5))  #dropout使一半的神经元不工作\n",
    "model.add(layers.Dense(512, activation='relu'))\n",
    "model.add(layers.Dense(3, activation='softmax'))\n",
    "\n",
    "model.summary()                  #查看模型整体情况"
   ],
   "metadata": {
    "collapsed": false,
    "pycharm": {
     "name": "#%%\n"
    }
   }
  },
  {
   "cell_type": "code",
   "execution_count": null,
   "outputs": [],
   "source": [
    "from keras import optimizers\n",
    "model.compile(loss='categorical_crossentropy',          #损失函数\n",
    "optimizer=optimizers.RMSprop(lr=1e-4),             #优化器\n",
    "metrics=['acc'])                                   #指标名称\n",
    "\n"
   ],
   "metadata": {
    "collapsed": false,
    "pycharm": {
     "name": "#%%\n"
    }
   }
  },
  {
   "cell_type": "code",
   "execution_count": null,
   "outputs": [],
   "source": [
    "#图片的训练路径和验证路径\n",
    "train_dir = r'G:\\Multiclassification\\train'\n",
    "validation_dir = r'G:\\Multiclassification\\validation'\n"
   ],
   "metadata": {
    "collapsed": false,
    "pycharm": {
     "name": "#%%\n"
    }
   }
  },
  {
   "cell_type": "code",
   "execution_count": null,
   "outputs": [],
   "source": [
    "#生成训练需要的图片和标签\n",
    "from keras.preprocessing.image import ImageDataGenerator\n",
    "#将图片大小调整到1以内，原先图片每个像素的格式为uint8，所以要除以255\n",
    "train_datagen = ImageDataGenerator(rescale=1./255)\n",
    "validation_datagen = ImageDataGenerator(rescale=1./255)\n",
    "\n",
    "#根据目录的名称，生成对应的标签\n",
    "#train_dir有Ⅱ型和Ⅲ型的图片\n",
    "#每次生成batch_size数量的图片，图片大小为target_size\n",
    "train_generator = train_datagen.flow_from_directory(\n",
    "train_dir,\n",
    "target_size=(150, 150),              #生成图片的大小\n",
    "batch_size=150,                       #一次生成图片的数量\n",
    "class_mode='categorical')                 #图片标签的类型\n",
    "\n",
    "validation_generator = validation_datagen.flow_from_directory(\n",
    "validation_dir,\n",
    "target_size=(150, 150),              #生成图片的大小\n",
    "batch_size=20,                       #一次生成图片的数量\n",
    "class_mode='categorical')                 #图片标签的类型\n",
    "\n"
   ],
   "metadata": {
    "collapsed": false,
    "pycharm": {
     "name": "#%%\n"
    }
   }
  },
  {
   "cell_type": "code",
   "execution_count": null,
   "outputs": [],
   "source": [
    "#开始训练\n",
    "history = model.fit_generator(\n",
    "train_generator,                           #通过生成器传入图片和标签\n",
    "steps_per_epoch=10,                        #每轮要传入10次，即1500张图片进行训练\n",
    "epochs=30,                                 #总共训练30轮\n",
    "validation_data=validation_generator,      #通过生成器传入图片和标签进行验证\n",
    "validation_steps=25)                       #每轮要传入10次，即300张图片进行验证"
   ],
   "metadata": {
    "collapsed": false,
    "pycharm": {
     "name": "#%%\n"
    }
   }
  },
  {
   "cell_type": "code",
   "execution_count": null,
   "outputs": [],
   "source": [
    "#绘制训练精度、验证精度\n",
    "#绘制训练损失、验证损失\n",
    "#python画图库，类似matlab的plot\n",
    "import matplotlib.pyplot as plt\n",
    "acc = history.history['acc']             #得到训练的指标数据\n",
    "val_acc = history.history['val_acc']     #得到验证的指标数据\n",
    "loss = history.history['loss']           #得到训练损失\n",
    "val_loss = history.history['val_loss']   #得到验证损失\n",
    "epochs = range(1, len(acc) + 1)\n",
    "plt.plot(epochs, acc, 'bo', label='Training acc')\n",
    "plt.plot(epochs, val_acc, 'b', label='Validation acc')\n",
    "plt.title('Training and validation accuracy')\n",
    "plt.legend()                              #画图例\n",
    "plt.figure()                              #另一张图\n",
    "plt.plot(epochs, loss, 'bo', label='Training loss')\n",
    "plt.plot(epochs, val_loss, 'b', label='Validation loss')\n",
    "plt.title('Training and validation loss')\n",
    "plt.legend()\n",
    "plt.show()                                #画图，最后加上\n",
    "\n"
   ],
   "metadata": {
    "collapsed": false,
    "pycharm": {
     "name": "#%%\n"
    }
   }
  }
 ],
 "metadata": {
  "kernelspec": {
   "display_name": "Python 3",
   "language": "python",
   "name": "python3"
  },
  "language_info": {
   "codemirror_mode": {
    "name": "ipython",
    "version": 2
   },
   "file_extension": ".py",
   "mimetype": "text/x-python",
   "name": "python",
   "nbconvert_exporter": "python",
   "pygments_lexer": "ipython2",
   "version": "2.7.6"
  }
 },
 "nbformat": 4,
 "nbformat_minor": 0
}