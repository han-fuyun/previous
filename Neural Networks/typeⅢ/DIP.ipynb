{
 "cells": [
  {
   "cell_type": "code",
   "execution_count": 1,
   "metadata": {
    "collapsed": true
   },
   "outputs": [],
   "source": [
    "import cv2 as cv\n",
    "import numpy as np\n"
   ]
  },
  {
   "cell_type": "code",
   "execution_count": 2,
   "outputs": [],
   "source": [
    "# 读取文件\n",
    "path = r'G:\\useful_L\\3\\LM200102240110_III_25_180.jpg'\n",
    "image = cv.imread(path, cv.IMREAD_UNCHANGED)\n"
   ],
   "metadata": {
    "collapsed": false,
    "pycharm": {
     "name": "#%%\n"
    }
   }
  },
  {
   "cell_type": "markdown",
   "source": [
    "1. 普通的通道归一化\n",
    "2. 自适应二值化\n",
    "3. canny边缘检测\n",
    "4. 图像形态学\n"
   ],
   "metadata": {
    "collapsed": false,
    "pycharm": {
     "name": "#%% md\n"
    }
   }
  },
  {
   "cell_type": "code",
   "execution_count": 3,
   "outputs": [],
   "source": [
    "def normalization_x(filename):\n",
    "    # 徐龙老师采用的消除横线噪声的通道归一化方法\n",
    "    image = filename.copy()\n",
    "    # list 没有shape方法\n",
    "    shape = image.shape\n",
    "    global_mean = np.mean(image)\n",
    "    # 防止255溢出，先将数组转换成列表\n",
    "    image = image.tolist()\n",
    "    for i in range(shape[0]):\n",
    "        channel_mean = np.mean(image[i])\n",
    "        image[i] = image[i] - channel_mean + global_mean\n",
    "    image = np.array(image, dtype=np.uint8)\n",
    "    return image\n",
    "\n",
    "\n",
    "def normalization_z(filename):\n",
    "    # 张沛锦采用的消除背景缓变噪声的通道归一化方法\n",
    "    image = filename.copy()\n",
    "    # list 没有shape方法\n",
    "    shape = image.shape\n",
    "    # 防止255溢出，先将数组转换成列表\n",
    "    image = image.tolist()\n",
    "\n",
    "    for i in range(shape[0]):\n",
    "        channel_mean = np.mean(image[i])\n",
    "        image[i] = abs(image[i] - channel_mean)\n",
    "    image = np.array(image, dtype=np.uint8)\n",
    "    return image\n"
   ],
   "metadata": {
    "collapsed": false,
    "pycharm": {
     "name": "#%%\n"
    }
   }
  },
  {
   "cell_type": "code",
   "execution_count": null,
   "outputs": [],
   "source": [
    "# 两种通道归一化\n",
    "image_x = normalization_x(image)\n",
    "image_z = normalization_z(image)\n",
    "images = np.hstack([image, image_x, image_z])\n",
    "\n",
    "cv.imshow(\"normalization\", images)\n",
    "cv.waitKey()\n",
    "cv.destroyWindow(\"normalization\")"
   ],
   "metadata": {
    "collapsed": false,
    "pycharm": {
     "name": "#%%\n"
    }
   }
  },
  {
   "cell_type": "code",
   "execution_count": 1,
   "outputs": [],
   "source": [
    "#自适应二值化\n",
    "\n",
    "\n",
    "copyright()\n",
    "\n"
   ],
   "metadata": {
    "collapsed": false,
    "pycharm": {
     "name": "#%%\n"
    }
   }
  },
  {
   "cell_type": "code",
   "execution_count": 3,
   "outputs": [],
   "source": [],
   "metadata": {
    "collapsed": false,
    "pycharm": {
     "name": "#%%\n"
    }
   }
  },
  {
   "cell_type": "code",
   "execution_count": 3,
   "outputs": [],
   "source": [],
   "metadata": {
    "collapsed": false,
    "pycharm": {
     "name": "#%%\n"
    }
   }
  },
  {
   "cell_type": "code",
   "execution_count": 3,
   "outputs": [],
   "source": [],
   "metadata": {
    "collapsed": false,
    "pycharm": {
     "name": "#%%\n"
    }
   }
  },
  {
   "cell_type": "code",
   "execution_count": 3,
   "outputs": [],
   "source": [],
   "metadata": {
    "collapsed": false,
    "pycharm": {
     "name": "#%%\n"
    }
   }
  },
  {
   "cell_type": "code",
   "execution_count": null,
   "outputs": [],
   "source": [],
   "metadata": {
    "collapsed": false,
    "pycharm": {
     "name": "#%%\n"
    }
   }
  }
 ],
 "metadata": {
  "kernelspec": {
   "display_name": "Python 3",
   "language": "python",
   "name": "python3"
  },
  "language_info": {
   "codemirror_mode": {
    "name": "ipython",
    "version": 2
   },
   "file_extension": ".py",
   "mimetype": "text/x-python",
   "name": "python",
   "nbconvert_exporter": "python",
   "pygments_lexer": "ipython2",
   "version": "2.7.6"
  }
 },
 "nbformat": 4,
 "nbformat_minor": 0
}