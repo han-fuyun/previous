{
 "cells": [
  {
   "cell_type": "code",
   "execution_count": null,
   "outputs": [],
   "source": [
    "'''\n",
    "判断有没有爆发\n",
    "三分类问题\n",
    "现在改成二分类，要更改损失函数\n",
    "非常可能不适用\n",
    "'''\n",
    "\n"
   ],
   "metadata": {
    "collapsed": false,
    "pycharm": {
     "name": "#%%\n"
    }
   }
  },
  {
   "cell_type": "code",
   "execution_count": null,
   "outputs": [],
   "source": [
    "from keras import models\n",
    "from keras import layers\n"
   ],
   "metadata": {
    "collapsed": false,
    "pycharm": {
     "name": "#%%\n"
    }
   }
  },
  {
   "cell_type": "code",
   "execution_count": null,
   "outputs": [],
   "source": [
    "model = models.Sequential()\n",
    "#存在padding\n",
    "model.add(layers.Conv2D(32,(1,5),padding='same',activation='relu',input_shape=(120,120)))\n",
    "model.add(layers.MaxPool2D(2,2))\n",
    "model.add(layers.Conv2D(64,(1,5),padding='same',activation='relu'))\n",
    "model.add(layers.MaxPool2D(2,2))\n",
    "model.add(layers.Conv2D(128,(1,5),padding='same',activation='relu'))\n",
    "model.add(layers.MaxPool2D(2,2))\n",
    "model.add(layers.Conv2D(256,(1,3),padding='same',activation='relu'))\n",
    "model.add(layers.MaxPool2D(2,2))\n",
    "model.add(layers.Flatten())#展平为一维\n",
    "model.add(layers.Dropout(0.75))                   #0.75的神经元都不工作\n",
    "model.add(layers.Dense(1024, activation='relu'))\n",
    "model.add(layers.Dense(1, activation='sigmoid'))"
   ],
   "metadata": {
    "collapsed": false,
    "pycharm": {
     "name": "#%%\n"
    }
   }
  },
  {
   "cell_type": "code",
   "execution_count": null,
   "outputs": [],
   "source": [
    "from keras import optimizers\n",
    "model.compile(optimizer=optimizers.RMSprop(lr=2e-5),\n",
    "    loss='binary_crossentropy',\n",
    "    metrics=['acc'])"
   ],
   "metadata": {
    "collapsed": false,
    "pycharm": {
     "name": "#%%\n"
    }
   }
  },
  {
   "cell_type": "code",
   "execution_count": null,
   "outputs": [],
   "source": [
    "#图片的训练路径和验证路径\n",
    "train_dir = r'F:\\dogs-vs-cats\\数据集\\train'\n",
    "validation_dir = r'F:\\dogs-vs-cats\\数据集\\validation'"
   ],
   "metadata": {
    "collapsed": false,
    "pycharm": {
     "name": "#%%\n"
    }
   }
  },
  {
   "cell_type": "code",
   "execution_count": null,
   "outputs": [],
   "source": [
    "\n",
    "#生成训练需要的图片和标签\n",
    "from keras.preprocessing.image import ImageDataGenerator\n",
    "#将图片大小调整到1以内，原先图片每个像素的格式为uint8，所以要除以255\n",
    "train_datagen = ImageDataGenerator(\n",
    "rescale=1./255,\n",
    "# rotation_range=40,                #角度随机旋转的范围\n",
    "# width_shift_range=0.2,            #随机水平方向移动的范围（相对）\n",
    "# height_shift_range=0.2,           #随机垂直方向移动的范围（相对）\n",
    "# shear_range=0.2,                  #错切变换，即矩形变平行四边形  https://blog.csdn.net/ghy_111/article/details/78056441\n",
    "# zoom_range=0.2,                   #图像随机缩放的范围\n",
    "# horizontal_flip=True,             #一半的图片是经过水平翻转的\n",
    ")\n",
    "\n",
    "validation_datagen = ImageDataGenerator(rescale=1./255)\n",
    "\n",
    "#根据目录的名称，生成对应的标签\n",
    "#train_dir有Ⅱ型和Ⅲ型的图片\n",
    "#每次生成batch_size数量的图片，图片大小为target_size\n",
    "train_generator = train_datagen.flow_from_directory(\n",
    "train_dir,\n",
    "target_size=(150, 150),              #生成图片的大小\n",
    "batch_size=32,                       #一次生成图片的数量\n",
    "class_mode='binary')                 #图片标签的类型\n",
    "\n",
    "validation_generator = validation_datagen.flow_from_directory(\n",
    "validation_dir,\n",
    "target_size=(150, 150),              #生成图片的大小\n",
    "batch_size=32,                       #一次生成图片的数量\n",
    "class_mode='binary')                 #图片标签的类型\n",
    "\n",
    "\n",
    "\n"
   ],
   "metadata": {
    "collapsed": false,
    "pycharm": {
     "name": "#%%\n"
    }
   }
  },
  {
   "cell_type": "code",
   "execution_count": null,
   "outputs": [],
   "source": [
    "#开始训练\n",
    "history = model.fit_generator(\n",
    "train_generator,                           #通过生成器传入图片和标签\n",
    "steps_per_epoch=100,                       #每轮要传入100次，即2000张图片进行训练\n",
    "epochs=30,                                 #总共训练30轮\n",
    "validation_data=validation_generator,      #通过生成器传入图片和标签进行验证\n",
    "validation_steps=50)                       #每轮要传入50次，即1000张图片进行验证\n",
    "\n"
   ],
   "metadata": {
    "collapsed": false,
    "pycharm": {
     "name": "#%%\n"
    }
   }
  },
  {
   "cell_type": "code",
   "execution_count": null,
   "outputs": [],
   "source": [
    "#绘制训练精度、验证精度\n",
    "#绘制训练损失、验证损失\n",
    "#python画图库，类似matlab的plot\n",
    "import matplotlib.pyplot as plt\n",
    "acc = history.history['acc']             #得到训练的指标数据\n",
    "val_acc = history.history['val_acc']     #得到验证的指标数据\n",
    "loss = history.history['loss']           #得到训练损失\n",
    "val_loss = history.history['val_loss']   #得到验证损失\n",
    "epochs = range(1, len(acc) + 1)\n",
    "plt.plot(epochs, acc, 'bo', label='Training acc')\n",
    "plt.plot(epochs, val_acc, 'b', label='Validation acc')\n",
    "plt.title('Training and validation accuracy')\n",
    "plt.legend()                              #画图例\n",
    "plt.figure()                              #另一张图\n",
    "plt.plot(epochs, loss, 'bo', label='Training loss')\n",
    "plt.plot(epochs, val_loss, 'b', label='Validation loss')\n",
    "plt.title('Training and validation loss')\n",
    "plt.legend()\n",
    "plt.show()                                #画图，最后加上\n",
    "\n",
    "\n"
   ],
   "metadata": {
    "collapsed": false,
    "pycharm": {
     "name": "#%%\n"
    }
   }
  }
 ],
 "metadata": {
  "kernelspec": {
   "display_name": "Python 3",
   "language": "python",
   "name": "python3"
  },
  "language_info": {
   "codemirror_mode": {
    "name": "ipython",
    "version": 2
   },
   "file_extension": ".py",
   "mimetype": "text/x-python",
   "name": "python",
   "nbconvert_exporter": "python",
   "pygments_lexer": "ipython2",
   "version": "2.7.6"
  }
 },
 "nbformat": 4,
 "nbformat_minor": 0
}